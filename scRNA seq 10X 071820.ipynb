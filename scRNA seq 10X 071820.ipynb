{
 "cells": [
  {
   "cell_type": "code",
   "execution_count": null,
   "metadata": {},
   "outputs": [],
   "source": [
    "#clean environment\n",
    "ls()\n",
    "remove(list = ls())\n",
    "#Can also clear global envi Ctrl+Shift+F10"
   ]
  },
  {
   "cell_type": "code",
   "execution_count": null,
   "metadata": {},
   "outputs": [],
   "source": [
    "#loadling Seurat and other required packages\n",
    "library(dplyr)\n",
    "library(Seurat)\n",
    "library(patchwork)\n",
    "#Inspect the package version\n",
    "packageVersion('Seurat')"
   ]
  },
  {
   "cell_type": "code",
   "execution_count": null,
   "metadata": {},
   "outputs": [],
   "source": [
    "# Load the tissue ILC dataset\n",
    "ILC.data_wt1 <- Read10X(data.dir = \"~/Workspace/GSE102299_RAW/wt_PBS_1\")\n",
    "ILC.data_wt2 <- Read10X(data.dir = \"~/Workspace/GSE102299_RAW/wt_PBS_2\")\n",
    "ILC.data_hdm1 <- Read10X(data.dir = \"~/Workspace/GSE102299_RAW/wt_HDM_1\")\n",
    "ILC.data_hdm2 <- Read10X(data.dir = \"~/Workspace/GSE102299_RAW/wt_HDM_2\")\n"
   ]
  },
  {
   "cell_type": "code",
   "execution_count": null,
   "metadata": {},
   "outputs": [],
   "source": [
    "# Initialize the Seurat object with the raw (non-normalized data).\n",
    "ILC_wt1 <- CreateSeuratObject(counts = ILC.data_wt1, project = \"PBS1\", min.cells = 3, min.features = 200)\n",
    "ILC_wt2 <- CreateSeuratObject(counts = ILC.data_wt2, project = \"PBS2\", min.cells = 3, min.features = 200)\n",
    "ILC_hdm1 <- CreateSeuratObject(counts = ILC.data_hdm1, project = \"HDM1\", min.cells = 3, min.features = 200)\n",
    "ILC_hdm2 <- CreateSeuratObject(counts = ILC.data_hdm2, project = \"HDM2\", min.cells = 3, min.features = 200)\n"
   ]
  },
  {
   "cell_type": "code",
   "execution_count": null,
   "metadata": {},
   "outputs": [],
   "source": [
    "#Merge differenct tissue ILC to one dataset\n",
    "ILC_total<- merge(ILC_wt1, y = c(ILC_wt2, ILC_hdm1, ILC_hdm2), cell.ids = c(\"PBS1\", \"PBS2\", \"HDM1\", \"HDM2\"), project = \"lung ILC\")\n"
   ]
  },
  {
   "cell_type": "code",
   "execution_count": null,
   "metadata": {},
   "outputs": [],
   "source": [
    "# What does the matrix look like?\n",
    "# Lets examine a few genes in the first hundred cells\n",
    "wt1 <- ILC.data_wt1[c(\"Il5\", \"Il13\", \"Chat\"), 1:100]\n",
    "wt2 <- ILC.data_wt2[c(\"Il5\", \"Il13\", \"Chat\"), 1:100]\n",
    "hdm1 <- ILC.data_hdm1[c(\"Il5\", \"Il13\", \"Chat\"), 1:100]\n",
    "hdm2 <- ILC.data_hdm2[c(\"Il5\", \"Il13\", \"Chat\"), 1:100]\n"
   ]
  },
  {
   "cell_type": "code",
   "execution_count": null,
   "metadata": {},
   "outputs": [],
   "source": [
    "#[Optional]Export the raw counts. Can take a look by Excel\n",
    "write.csv(wt1, \"~/Workspace/GSE102299_RAW/raw_wt1.csv\", row.names = TRUE)\n",
    "write.csv(wt2, \"~/Workspace/GSE102299_RAW/raw_wt2.csv\", row.names = TRUE)\n",
    "write.csv(hdm1, \"~/Workspace/GSE102299_RAW/raw_hdm1.csv\", row.names = TRUE)\n",
    "write.csv(hdm2, \"~/Workspace/GSE102299_RAW/raw_hdm2.csv\", row.names = TRUE)\n",
    "#Know the total number of cells in each file. For example, hdm1 have 3344 cells "
   ]
  },
  {
   "cell_type": "code",
   "execution_count": null,
   "metadata": {},
   "outputs": [],
   "source": [
    "#[Optional]Examine the total raw counts of some gene of interest\n",
    "x <- ILC.data_hdm1[c(\"Il5\", \"Chat\"), 1:3344]\n",
    "#Inspect the type of the data x\n",
    "class(x)\n",
    "#Change to regular matrix to be eligible for calculation\n",
    "as.matrix(x)\n",
    "class(x)\n",
    "x\n",
    "rowSums(x, na.rm = FALSE)"
   ]
  },
  {
   "cell_type": "markdown",
   "metadata": {},
   "source": [
    "The . values in the matrix represent 0s (no molecules detected). Since most values in an scRNA-seq matrix are 0, Seurat uses a sparse-matrix representation whenever possible. This results in significant memory and speed savings for Drop-seq/inDrop/10x data."
   ]
  },
  {
   "cell_type": "code",
   "execution_count": null,
   "metadata": {},
   "outputs": [],
   "source": [
    "#Inspect the data matrix size\n",
    "dense.size_lung <- object.size(as.matrix(ILC.data_wt1))\n",
    "dense.size_lung\n",
    "\n",
    "sparse.size_lung<- object.size(ILC.data_wt1)\n",
    "sparse.size_lung"
   ]
  },
  {
   "cell_type": "markdown",
   "metadata": {},
   "source": [
    "Let's start the standard pre-processing workflow"
   ]
  },
  {
   "cell_type": "code",
   "execution_count": null,
   "metadata": {},
   "outputs": [],
   "source": [
    "#QC and selecting \n",
    "# The [[ operator can add columns to object metadata. This is a great place to stash QC stats\n",
    "ILC_total[[\"percent.mt\"]] <- PercentageFeatureSet(ILC_total, pattern = \"^MT-\")"
   ]
  },
  {
   "cell_type": "code",
   "execution_count": null,
   "metadata": {},
   "outputs": [],
   "source": [
    "#Inspect QC metric\n",
    "#The number of unique genes and total molecules are automatically calculated during CreateSeuratObject\n",
    "#You can find them stored in the object meta data\n",
    "# Show QC metrics for the first 5 cells\n",
    "head(ILC_total@meta.data, 5)"
   ]
  },
  {
   "cell_type": "code",
   "execution_count": null,
   "metadata": {},
   "outputs": [],
   "source": [
    "# Visualize QC metrics as a violin plot\n",
    "VlnPlot(ILC_total, features = c(\"nFeature_RNA\", \"nCount_RNA\", \"percent.mt\"), ncol = 3)\n"
   ]
  },
  {
   "cell_type": "code",
   "execution_count": null,
   "metadata": {},
   "outputs": [],
   "source": [
    "# FeatureScatter is typically used to visualize feature-feature relationships, but can be used for anything calculated by the object, i.e. columns in object metadata, PC scores etc.\n",
    "plot1 <- FeatureScatter(ILC_total, feature1 = \"nCount_RNA\", feature2 = \"percent.mt\")\n",
    "plot2 <- FeatureScatter(ILC_total, feature1 = \"nCount_RNA\", feature2 = \"nFeature_RNA\")\n",
    "plot1 + plot2"
   ]
  },
  {
   "cell_type": "code",
   "execution_count": null,
   "metadata": {},
   "outputs": [],
   "source": [
    "#select the high quality one\n",
    "ILC_total <- subset(ILC_total, subset = nFeature_RNA > 200 & nFeature_RNA < 3500 & percent.mt < 5)\n",
    "# Numbers can be changed between different batch of expeirment. Try to cut the high of feature"
   ]
  },
  {
   "cell_type": "code",
   "execution_count": null,
   "metadata": {},
   "outputs": [],
   "source": [
    "#NORMALIZE\n",
    "#By default, we employ a global-scaling normalization method “LogNormalize” that normalizes the feature expression measurements for each cell by the total expression, multiplies this by a scale factor (10,000 by default), and log-transforms the result.\n",
    "ILC_total_norm <- NormalizeData(ILC_total, normalization.method = \"LogNormalize\", scale.factor = 10000)\n"
   ]
  },
  {
   "cell_type": "code",
   "execution_count": null,
   "metadata": {},
   "outputs": [],
   "source": [
    "#Identification of highly variable features (feature selection)\n",
    "ILC_total_norm <- FindVariableFeatures(ILC_total_norm, selection.method = \"vst\", nfeatures = 2000)\n"
   ]
  },
  {
   "cell_type": "code",
   "execution_count": null,
   "metadata": {},
   "outputs": [],
   "source": [
    "# Identify the 20 most highly variable genes\n",
    "top20_norm <- head(VariableFeatures(ILC_total_norm), 20)\n",
    "top20_norm\n",
    "# plot variable features with and without labels\n",
    "plot3 <- VariableFeaturePlot(ILC_total_norm)\n",
    "plot3\n",
    "plot4 <- LabelPoints(plot = plot3, points = top20_norm, repel = TRUE)\n",
    "plot4"
   ]
  },
  {
   "cell_type": "code",
   "execution_count": null,
   "metadata": {},
   "outputs": [],
   "source": [
    "#Scaling the data; apply linear transformation that is a preprocessing step prior to PCA\n",
    "#Shifts the expression of each gene, so that the mean expression across cells is 0\n",
    "#Scales the expression of each gene, so that the variance across cells is 1\n",
    "#This step gives equal weight in downstream analyses, so that highly-expressed genes do not dominate\n",
    "#The results of this are stored in ILC_total[[\"RNA\"]]@scale.data\n",
    "all.genes <- rownames(ILC_total_norm)\n",
    "ILC_total_norm <- ScaleData(ILC_total_norm, features = all.genes)"
   ]
  },
  {
   "cell_type": "code",
   "execution_count": null,
   "metadata": {},
   "outputs": [],
   "source": [
    "#Perform linear dimensional reduction\n",
    "ILC_total_norm <- RunPCA(ILC_total_norm, features = VariableFeatures(object = ILC_total_norm))"
   ]
  },
  {
   "cell_type": "code",
   "execution_count": null,
   "metadata": {},
   "outputs": [],
   "source": [
    "#Seurat provides several useful ways of visualizing both cells and features that define the PCA, including VizDimReduction, DimPlot, and DimHeatmap\n",
    "#I prefer #2\n",
    "#1:VizDimLoadings\n",
    "VizDimLoadings(ILC_total_norm, dims = 1:2, reduction = \"pca\")\n",
    "#2\n",
    "DimPlot(ILC_total_norm, reduction = \"pca\")\n",
    "#3\n",
    "DimHeatmap(ILC_total_norm, dims = 1:3, cells = 500, balanced = TRUE)"
   ]
  },
  {
   "cell_type": "code",
   "execution_count": null,
   "metadata": {},
   "outputs": [],
   "source": [
    "#Cluster the cells\n",
    "#As in PhenoGraph, we first construct a KNN graph based on the euclidean distance in PCA space, and refine the edge weights between any two cells based on the shared overlap in their local neighborhoods (Jaccard similarity). This step is performed using the FindNeighbors function, and takes as input the previously defined dimensionality of the dataset (first 10 PCs)\n",
    "ILC_total_norm <- FindNeighbors(ILC_total_norm, dims = 1:10)\n",
    "# Check at cluster IDs of the first 5 cells\n",
    "head(Idents(ILC_total_norm), 5)"
   ]
  },
  {
   "cell_type": "code",
   "execution_count": null,
   "metadata": {},
   "outputs": [],
   "source": [
    "#non-linear dimensional reduction (UMAP/tSNE)\n",
    "# UMAP is better with both local and global reduction\n",
    "# If you haven't installed UMAP, you can do so via reticulate::py_install(packages ='umap-learn')\n",
    "ILC_total_norm <- RunUMAP(ILC_total_norm, dims = 1:10)\n",
    "# note that you can set `label = TRUE` or use the LabelClusters function to help label\n",
    "# individual clusters\n",
    "DimPlot(ILC_total_norm, reduction = \"umap\", cols = c(\"red\", \"orange\", \"blue\", \"purple\"))\n",
    "# GOT UMAP!!!"
   ]
  },
  {
   "cell_type": "code",
   "execution_count": null,
   "metadata": {},
   "outputs": [],
   "source": [
    "#plot your gene of interest\n",
    "VlnPlot(ILC_total_norm, features = c(\"Il5\", \"Il13\", \"Areg\", \"Chat\"))\n",
    "VlnPlot(ILC_total_norm, features = c(\"Gata3\", \"Klrg1\", \"Il1rl1\", \"Il17rb\", \"Tcf12\", \"Tcf3\", \"Tcf4\", \"Id1\", \"Id2\", \"Id3\", \"Id4\"))\n",
    "\n",
    "FeaturePlot(ILC_total_norm, features = c(\"Gata3\", \"Il7r\", \"Il1rl1\", \"Il17rb\", \"Klrg1\", \"Alox5\",\"Ltb4r1\", \"Cysltr1\", \"Cysltr2\", \"Lta4h\", \"Ltc4s\"))\n",
    "FeaturePlot(ILC_total_norm, features = c(\"Il5\", \"Il13\", \"Areg\", \"Arg1\", \"Ptgs1\", \"Ptgs2\",\"Hpgds\", \"Ptgdr1\", \"Ptgdr2\"))\n",
    "FeaturePlot(ILC_total_norm, features = c(\"Chat\", \"Chrm3\", \"Chrna1\", \"Chrna1os\", \"Chrna7\", \"Chrna9\", \"Chrnb1\",\"Chrnb2\", \"Chrne\"))\n",
    "FeaturePlot(ILC_total_norm, features = c(\"Gata3\",\"Il1rl1\", \"Il17rb\", \"Klrg1\", \"Tcf12\", \"Tcf3\", \"Tcf4\", \"Id1\", \"Id2\", \"Id3\", \"Id4\"))\n",
    "FeaturePlot(ILC_total_norm, features = c(\"Klrg1\",\"Arg1\", \"Ccl5\", \"Il13\", \"Amica1\", \"Cd7\", \"Ms4a4b\", \"Klrk1\", \"Klf2\", \"Cd3d\", \"Cd3e\", \"Stmn1\", \"Il18r1\", \"Cd2\", \"Tcf7\", \"Ccl5\", \"Nkg7\", \"Ms4a6b\"))"
   ]
  },
  {
   "cell_type": "code",
   "execution_count": null,
   "metadata": {},
   "outputs": [],
   "source": [
    "#Differential analysis\n",
    "ILC.markers <- FindAllMarkers(ILC_total_norm, only.pos = TRUE, min.pct = 0.25, logfc.threshold = 0.25)\n",
    "ILC.markers %>% \n",
    "  group_by(cluster) %>% \n",
    "  top_n(n = 5, wt = avg_logFC)\n",
    "\n",
    "#Save the list\n",
    "write.csv(ILC.markers, \"~/Workspace/GSE102299_RAW/ILC_All_marker.csv\", row.names = TRUE)"
   ]
  },
  {
   "cell_type": "code",
   "execution_count": null,
   "metadata": {},
   "outputs": [],
   "source": [
    "#[Optional] Let the machine differentiate different cell types\n",
    "#To cluster the cells, we next apply modularity optimization techniques such as the Louvain algorithm (default) or SLM [SLM, Blondel et al., Journal of Statistical Mechanics], to iteratively group cells together, with the goal of optimizing the standard modularity function. The FindClusters function implements this procedure\n",
    "#We find that setting this parameter between 0.4-1.2 typically returns good results for single-cell datasets of around 3K cells\n",
    "ILC_total_norm <- FindClusters(ILC_total_norm, resolution = 0.5)\n",
    "# resolution = 0.4 have less groups, 1.2 have more groups\n",
    "# Look at cluster IDs of the first 5 cells\n",
    "head(Idents(ILC_total_norm), 5)"
   ]
  },
  {
   "cell_type": "code",
   "execution_count": null,
   "metadata": {},
   "outputs": [],
   "source": [
    "#non-linear dimensional reduction (UMAP/tSNE)\n",
    "# If you haven't installed UMAP, you can do so via reticulate::py_install(packages ='umap-learn')\n",
    "ILC_total_norm <- RunUMAP(ILC_total_norm, dims = 1:10)\n",
    "# note that you can set `label = TRUE` or use the LabelClusters function to help label\n",
    "# individual clusters\n",
    "DimPlot(ILC_total_norm, reduction = \"umap\")\n"
   ]
  },
  {
   "cell_type": "code",
   "execution_count": null,
   "metadata": {},
   "outputs": [],
   "source": [
    "#Finding differentially expressed features (cluster biomarkers)\n",
    "# find all markers of cluster 1\n",
    "#it identifes positive and negative markers of a single cluster (specified in ident.1\n",
    "#The min.pct argument requires a feature to be detected at a minimum percentage in either of the two groups of cells, and the thresh.test argument requires a feature to be differentially expressed (on average) by some amount between the two groups.\n",
    "cluster1.markers <- FindMarkers(ILC_total_norm, ident.1 = 1, min.pct = 0.25)\n",
    "head(cluster1.markers, n = 5)\n",
    "#same code can be applied to cluster 2, 3, ..etc\n",
    "\n",
    "# find all markers distinguishing cluster 5 from clusters 0 and 3\n",
    "cluster5.markers <- FindMarkers(ILC_total_norm, ident.1 = 5, ident.2 = c(0, 3), min.pct = 0.25)\n",
    "head(cluster5.markers, n = 5)\n"
   ]
  },
  {
   "cell_type": "code",
   "execution_count": null,
   "metadata": {},
   "outputs": [],
   "source": [
    "#Diiferential analysis of each cluster\n",
    "ILC.markers_2 <- FindAllMarkers(ILC_total_norm, only.pos = TRUE, min.pct = 0.25, logfc.threshold = 0.25)\n",
    "ILC.markers_2 %>% \n",
    "  group_by(cluster) %>% \n",
    "  top_n(n = 5, wt = avg_logFC)\n",
    "#Save the list\n",
    "write.csv(ILC.markers_2, \"~/Workspace/GSE102299_RAW/ILC_All_marker_cluster.csv\", row.names = TRUE)"
   ]
  },
  {
   "cell_type": "code",
   "execution_count": null,
   "metadata": {},
   "outputs": [],
   "source": [
    "#Method 1 : draw heatmap on selected DEGs\n",
    "##Draw the heatmap of Klrg1+- DEGs!!!!!!\n",
    "features <- c(\"Klrg1\",\"Arg1\", \"Ccl5\", \"Il13\", \"Amica1\", \"Cd7\", \"Ms4a4b\", \"Klrk1\", \"Klf2\", \"Cd3d\", \"Cd3e\", \"Stmn1\", \"Il18r1\", \"Cd2\", \"Tcf7\", \"Ccl5\", \"Nkg7\", \"Ms4a6b\")\n",
    "#Load the library\n",
    "library(ggplot2)\n",
    "DoHeatmap(ILC_total_norm, features = features) + NoLegend()\n",
    "\n",
    "#Method 2 : draw heatmap of all DEGs\n",
    "features <- rownames(ILC.markers)\n",
    "#To designate colors in gradient\n",
    "DoHeatmap(ILC_total_norm , features = features) + scale_fill_gradientn(colors = c(\"purple\", \"black\", \"yellow\"))"
   ]
  },
  {
   "cell_type": "code",
   "execution_count": null,
   "metadata": {},
   "outputs": [],
   "source": []
  }
 ],
 "metadata": {
  "kernelspec": {
   "display_name": "R",
   "language": "R",
   "name": "ir"
  },
  "language_info": {
   "codemirror_mode": "r",
   "file_extension": ".r",
   "mimetype": "text/x-r-source",
   "name": "R",
   "pygments_lexer": "r",
   "version": "3.6.1"
  }
 },
 "nbformat": 4,
 "nbformat_minor": 4
}
